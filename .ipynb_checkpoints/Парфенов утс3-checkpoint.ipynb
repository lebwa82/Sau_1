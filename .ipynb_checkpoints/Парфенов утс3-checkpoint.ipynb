{
 "cells": [
  {
   "cell_type": "code",
   "execution_count": 1,
   "metadata": {},
   "outputs": [
    {
     "name": "stdout",
     "output_type": "stream",
     "text": [
      "51.0\n",
      "TransferFunctionContinuous(\n",
      "array([25.]),\n",
      "array([  1. ,   0. , -49.5]),\n",
      "dt: None\n",
      ")\n"
     ]
    }
   ],
   "source": [
    "#!/usr/bin/env python3\n",
    "import numpy as np\n",
    "from scipy import signal\n",
    "import matplotlib.pyplot as plt\n",
    "dT = 0.1\n",
    "TotalTime = 5\n",
    "print(TotalTime/dT + 1)\n",
    "Tin = np.linspace(0, TotalTime, int(TotalTime/dT + 1))\n",
    "a = 0.2\n",
    "m = 1\n",
    "L = a\n",
    "g = 10\n",
    "sys_tf = signal.TransferFunction([1], [m*L**2, 0, -m*g*L+0.02])\n",
    "print(sys_tf)"
   ]
  },
  {
   "cell_type": "code",
   "execution_count": 200,
   "metadata": {},
   "outputs": [
    {
     "name": "stdout",
     "output_type": "stream",
     "text": [
      "(array([[-100. ,   -1.9],\n",
      "       [   1. ,    0. ]]), array([[1.],\n",
      "       [0.]]), array([[  0., 500.]]), array([[0.]]))\n"
     ]
    }
   ],
   "source": [
    "sys_tf = signal.tf2ss([1], [m*L**2,  0.2, -m*g*L+a])\n",
    "print(sys_tf)"
   ]
  },
  {
   "cell_type": "code",
   "execution_count": 202,
   "metadata": {},
   "outputs": [
    {
     "data": {
      "image/png": "[encoded data removed]",
      "text/plain": [
       "<Figure size 432x288 with 1 Axes>"
      ]
     },
     "metadata": {},
     "output_type": "display_data"
    }
   ],
   "source": [
    "zero_input = np.zeros(Tin.shape) # не будем прилагать момент\n",
    "start_pos = 1 / 180.0*np.pi # начнём с позиции в 0.001°.\n",
    "Tout,yout,xout = signal.lsim(sys_tf, zero_input, Tin, X0=[0, start_pos/40]) # начальная скорость нулевая, угол - start_pos\n",
    "plt.plot(Tout, yout, 'b')\n",
    "# покажем предельные допустимые отклонения красными линиями\n",
    "limit = 15 / 180 * np.pi\n",
    "plt.plot([0, TotalTime], [limit, limit], 'r')\n",
    "plt.plot([0, TotalTime], [-limit, -limit], 'r')\n",
    "plt.title('a=2')\n",
    "plt.show()\n"
   ]
  },
  {
   "cell_type": "code",
   "execution_count": 205,
   "metadata": {},
   "outputs": [
    {
     "name": "stdout",
     "output_type": "stream",
     "text": [
      "(array([[-2. , -1.9],\n",
      "       [ 1. ,  0. ]]), array([[1.],\n",
      "       [0.]]), array([[ 0., 10.]]), array([[0.]]))\n"
     ]
    },
    {
     "data": {
      "image/png": "[encoded data removed]",
      "text/plain": [
       "<Figure size 432x288 with 1 Axes>"
      ]
     },
     "metadata": {},
     "output_type": "display_data"
    }
   ],
   "source": [
    "a=10\n",
    "m=10\n",
    "sys_tf = signal.tf2ss([1], [m*L**2,  0.2, -m*g*L+a])\n",
    "print(sys_tf)\n",
    "zero_input = np.zeros(Tin.shape) # не будем прилагать момент\n",
    "start_pos = 1 / 180.0*np.pi # начнём с позиции в 0.001°.\n",
    "Tout,yout,xout = signal.lsim(sys_tf, zero_input, Tin, X0=[0, start_pos/40]) # начальная скорость нулевая, угол - start_pos\n",
    "plt.plot(Tout, yout, 'b')\n",
    "# покажем предельные допустимые отклонения красными линиями\n",
    "limit = 15 / 180 * np.pi\n",
    "plt.plot([0, TotalTime], [limit, limit], 'r')\n",
    "plt.plot([0, TotalTime], [-limit, -limit], 'r')\n",
    "plt.title('a=10')\n",
    "plt.show()"
   ]
  },
  {
   "cell_type": "code",
   "execution_count": 206,
   "metadata": {},
   "outputs": [
    {
     "name": "stdout",
     "output_type": "stream",
     "text": [
      "(array([[-2.0e+03, -1.9e+00],\n",
      "       [ 1.0e+00,  0.0e+00]]), array([[1.],\n",
      "       [0.]]), array([[    0., 10000.]]), array([[0.]]))\n"
     ]
    },
    {
     "data": {
      "image/png": "[encoded data removed]",
      "text/plain": [
       "<Figure size 432x288 with 1 Axes>"
      ]
     },
     "metadata": {},
     "output_type": "display_data"
    }
   ],
   "source": [
    "a=0.01\n",
    "m=0.01\n",
    "sys_tf = signal.tf2ss([1], [m*L**2,  0.2, -m*g*L+a])\n",
    "print(sys_tf)\n",
    "zero_input = np.zeros(Tin.shape) # не будем прилагать момент\n",
    "start_pos = 1 / 180.0*np.pi # начнём с позиции в 0.001°.\n",
    "Tout,yout,xout = signal.lsim(sys_tf, zero_input, Tin, X0=[0, start_pos/40]) # начальная скорость нулевая, угол - start_pos\n",
    "plt.plot(Tout, yout, 'b')\n",
    "# покажем предельные допустимые отклонения красными линиями\n",
    "limit = 15 / 180 * np.pi\n",
    "plt.plot([0, TotalTime], [limit, limit], 'r')\n",
    "plt.plot([0, TotalTime], [-limit, -limit], 'r')\n",
    "plt.title('a=0.01')\n",
    "plt.show()"
   ]
  },
  {
   "cell_type": "code",
   "execution_count": null,
   "metadata": {},
   "outputs": [],
   "source": []
  }
 ],
 "metadata": {
  "kernelspec": {
   "display_name": "Python 3 (ipykernel)",
   "language": "python",
   "name": "python3"
  },
  "language_info": {
   "codemirror_mode": {
    "name": "ipython",
    "version": 3
   },
   "file_extension": ".py",
   "mimetype": "text/x-python",
   "name": "python",
   "nbconvert_exporter": "python",
   "pygments_lexer": "ipython3",
   "version": "3.10.6"
  }
 },
 "nbformat": 4,
 "nbformat_minor": 2
}
