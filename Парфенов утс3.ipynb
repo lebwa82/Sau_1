{
 "cells": [
  {
   "cell_type": "code",
   "execution_count": 1,
   "metadata": {},
   "outputs": [
    {
     "name": "stdout",
     "output_type": "stream",
     "text": [
      "51.0\n",
      "TransferFunctionContinuous(\n",
      "array([25.]),\n",
      "array([  1.  ,   0.  , -48.55]),\n",
      "dt: None\n",
      ")\n"
     ]
    }
   ],
   "source": [
    "#!/usr/bin/env python3\n",
    "import numpy as np\n",
    "from scipy import signal\n",
    "import matplotlib.pyplot as plt\n",
    "dT = 0.1\n",
    "TotalTime = 5\n",
    "print(TotalTime/dT + 1)\n",
    "Tin = np.linspace(0, TotalTime, int(TotalTime/dT + 1))\n",
    "a = 0.2\n",
    "m = 1\n",
    "L = a\n",
    "g = 9.81\n",
    "sys_tf = signal.TransferFunction([1], [m*L**2, 0, -m*g*L+0.02])\n",
    "print(sys_tf)"
   ]
  },
  {
   "cell_type": "code",
   "execution_count": 2,
   "metadata": {},
   "outputs": [
    {
     "name": "stdout",
     "output_type": "stream",
     "text": [
      "(array([[-0.  , 48.55],\n",
      "       [ 1.  ,  0.  ]]), array([[1.],\n",
      "       [0.]]), array([[ 0., 25.]]), array([[0.]]))\n"
     ]
    }
   ],
   "source": [
    "sys_tf = signal.tf2ss([1], [m*L**2, 0, -m*g*L+0.02])\n",
    "print(sys_tf)"
   ]
  },
  {
   "cell_type": "code",
   "execution_count": 3,
   "metadata": {},
   "outputs": [
    {
     "data": {
      "image/png": "[encoded data removed]",
      "text/plain": [
       "<Figure size 640x480 with 1 Axes>"
      ]
     },
     "metadata": {},
     "output_type": "display_data"
    }
   ],
   "source": [
    "zero_input = np.zeros(Tin.shape) # не будем прилагать момент\n",
    "start_pos = 1 / 180.0*np.pi # начнём с позиции в 0.001°.\n",
    "Tout,yout,xout = signal.lsim(sys_tf, zero_input, Tin, X0=[0, start_pos/25]) # начальная скорость нулевая, угол - start_pos\n",
    "plt.plot(Tout, yout, 'b')\n",
    "# покажем предельные допустимые отклонения красными линиями\n",
    "limit = 15 / 180 * np.pi\n",
    "plt.plot([0, TotalTime], [limit, limit], 'r')\n",
    "plt.plot([0, TotalTime], [-limit, -limit], 'r')\n",
    "plt.show()\n"
   ]
  },
  {
   "cell_type": "code",
   "execution_count": null,
   "metadata": {},
   "outputs": [],
   "source": []
  },
  {
   "cell_type": "code",
   "execution_count": null,
   "metadata": {},
   "outputs": [],
   "source": []
  },
  {
   "cell_type": "code",
   "execution_count": 7,
   "metadata": {},
   "outputs": [
    {
     "name": "stdout",
     "output_type": "stream",
     "text": [
      "(array([[-0.  , 23.55, -0.  ],\n",
      "       [ 1.  ,  0.  ,  0.  ],\n",
      "       [ 0.  ,  1.  ,  0.  ]]), array([[1.],\n",
      "       [0.],\n",
      "       [0.]]), array([[  0., -25.,   0.]]), array([[1.]]))\n"
     ]
    }
   ],
   "source": [
    "P = 1\n",
    "I = 0\n",
    "D = 0\n",
    "PID_num = [D, P, I]\n",
    "PID_den = [1, 0]\n",
    "interm_num = np.convolve([1], PID_num)\n",
    "interm_den = np.convolve([m*L**2, 0, -m*g*L+0.02], PID_den)\n",
    "total_sys = signal.tf2ss(interm_den, np.polyadd(interm_den,\n",
    "interm_num))\n",
    "print(total_sys)"
   ]
  },
  {
   "cell_type": "code",
   "execution_count": 8,
   "metadata": {},
   "outputs": [
    {
     "ename": "ValueError",
     "evalue": "could not broadcast input array from shape (2,) into shape (3,)",
     "output_type": "error",
     "traceback": [
      "\u001b[0;31m---------------------------------------------------------------------------\u001b[0m",
      "\u001b[0;31mValueError\u001b[0m                                Traceback (most recent call last)",
      "Cell \u001b[0;32mIn [8], line 3\u001b[0m\n\u001b[1;32m      1\u001b[0m zero_input \u001b[38;5;241m=\u001b[39m np\u001b[38;5;241m.\u001b[39mzeros(Tin\u001b[38;5;241m.\u001b[39mshape) \u001b[38;5;66;03m# не будем прилагать момент\u001b[39;00m\n\u001b[1;32m      2\u001b[0m start_pos \u001b[38;5;241m=\u001b[39m \u001b[38;5;241m1\u001b[39m \u001b[38;5;241m/\u001b[39m \u001b[38;5;241m180.0\u001b[39m\u001b[38;5;241m*\u001b[39mnp\u001b[38;5;241m.\u001b[39mpi \u001b[38;5;66;03m# начнём с позиции в 0.001°.\u001b[39;00m\n\u001b[0;32m----> 3\u001b[0m Tout,yout,xout \u001b[38;5;241m=\u001b[39m signal\u001b[38;5;241m.\u001b[39mlsim(total_sys, zero_input, Tin, X0\u001b[38;5;241m=\u001b[39m[\u001b[38;5;241m0\u001b[39m, start_pos\u001b[38;5;241m/\u001b[39m\u001b[38;5;241m25\u001b[39m]) \u001b[38;5;66;03m# начальная скорость нулевая, угол - start_pos\u001b[39;00m\n\u001b[1;32m      4\u001b[0m plt\u001b[38;5;241m.\u001b[39mplot(Tout, yout, \u001b[38;5;124m'\u001b[39m\u001b[38;5;124mb\u001b[39m\u001b[38;5;124m'\u001b[39m)\n\u001b[1;32m      5\u001b[0m \u001b[38;5;66;03m# покажем предельные допустимые отклонения красными линиями\u001b[39;00m\n",
      "File \u001b[0;32m~/.local/lib/python3.10/site-packages/scipy/signal/_ltisys.py:2083\u001b[0m, in \u001b[0;36mlsim\u001b[0;34m(system, U, T, X0, interp)\u001b[0m\n\u001b[1;32m   2080\u001b[0m xout \u001b[38;5;241m=\u001b[39m np\u001b[38;5;241m.\u001b[39mempty((n_steps, n_states), sys\u001b[38;5;241m.\u001b[39mA\u001b[38;5;241m.\u001b[39mdtype)\n\u001b[1;32m   2082\u001b[0m \u001b[38;5;28;01mif\u001b[39;00m T[\u001b[38;5;241m0\u001b[39m] \u001b[38;5;241m==\u001b[39m \u001b[38;5;241m0\u001b[39m:\n\u001b[0;32m-> 2083\u001b[0m     \u001b[43mxout\u001b[49m\u001b[43m[\u001b[49m\u001b[38;5;241;43m0\u001b[39;49m\u001b[43m]\u001b[49m \u001b[38;5;241m=\u001b[39m X0\n\u001b[1;32m   2084\u001b[0m \u001b[38;5;28;01melif\u001b[39;00m T[\u001b[38;5;241m0\u001b[39m] \u001b[38;5;241m>\u001b[39m \u001b[38;5;241m0\u001b[39m:\n\u001b[1;32m   2085\u001b[0m     \u001b[38;5;66;03m# step forward to initial time, with zero input\u001b[39;00m\n\u001b[1;32m   2086\u001b[0m     xout[\u001b[38;5;241m0\u001b[39m] \u001b[38;5;241m=\u001b[39m dot(X0, linalg\u001b[38;5;241m.\u001b[39mexpm(transpose(A) \u001b[38;5;241m*\u001b[39m T[\u001b[38;5;241m0\u001b[39m]))\n",
      "\u001b[0;31mValueError\u001b[0m: could not broadcast input array from shape (2,) into shape (3,)"
     ]
    }
   ],
   "source": [
    "zero_input = np.zeros(Tin.shape) # не будем прилагать момент\n",
    "start_pos = 1 / 180.0*np.pi # начнём с позиции в 0.001°.\n",
    "Tout,yout,xout = signal.lsim(total_sys, zero_input, Tin, X0=[0, start_pos/25]) # начальная скорость нулевая, угол - start_pos\n",
    "plt.plot(Tout, yout, 'b')\n",
    "# покажем предельные допустимые отклонения красными линиями\n",
    "limit = 15 / 180 * np.pi\n",
    "plt.plot([0, TotalTime], [limit, limit], 'r')\n",
    "plt.plot([0, TotalTime], [-limit, -limit], 'r')\n",
    "plt.show()"
   ]
  },
  {
   "cell_type": "code",
   "execution_count": null,
   "metadata": {},
   "outputs": [],
   "source": []
  }
 ],
 "metadata": {
  "kernelspec": {
   "display_name": "Python 3 (ipykernel)",
   "language": "python",
   "name": "python3"
  },
  "language_info": {
   "codemirror_mode": {
    "name": "ipython",
    "version": 3
   },
   "file_extension": ".py",
   "mimetype": "text/x-python",
   "name": "python",
   "nbconvert_exporter": "python",
   "pygments_lexer": "ipython3",
   "version": "3.10.6"
  }
 },
 "nbformat": 4,
 "nbformat_minor": 2
}
